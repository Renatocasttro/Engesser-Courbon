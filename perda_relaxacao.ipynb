{
 "cells": [
  {
   "cell_type": "code",
   "execution_count": 8,
   "metadata": {},
   "outputs": [
    {
     "name": "stdout",
     "output_type": "stream",
     "text": [
      "A soma das perdas de retração e fluência é igual a: 0.1388\n",
      "ψ(t, t0): 5.6659%\n",
      "Δσpr(t, t0): 7.97 kN/cm²\n",
      "Δσpr, c+s: 6.86 kN/cm²\n",
      "A porcentagem de perda por relação(Δσpr, c+s/σpi) é de: 4.88%\n"
     ]
    }
   ],
   "source": [
    "# Dados do problema\n",
    "t0 = float(input(\"Qual o tempo inicial, em dias?\"))\n",
    "tfinal = float(input(\"Qual o tempo final, em anos?\"))\n",
    "t = tfinal * 365\n",
    "psi_1000 = 0.03\n",
    "perd_retr = float(input(\"Qual a perda por retração, em porcentagem?\"))\n",
    "perd_fl = float(input(\"Qual a perda por fluência, em porcentagem?\"))\n",
    "perda_sigma_p_cs = ((perd_retr+perd_fl) / 100)\n",
    "\n",
    "print(\"A soma das perdas de retração e fluência é igual a:\", perda_sigma_p_cs)\n",
    "\n",
    "#Cálculos\n",
    "# ψ(t, t0)\n",
    "psi_t_t0 = psi_1000 * ((t - t0) / (1000/24)) ** 0.15\n",
    "\n",
    "# Δσpr(t, t0)\n",
    "delta_sigma_pr_t_t0 = psi_t_t0 * (0.75 * 190)  # kN/cm²\n",
    "\n",
    "# Δσpr, c+s\n",
    "delta_sigma_pr_cs = delta_sigma_pr_t_t0 * (1 - perda_sigma_p_cs)\n",
    "\n",
    "# Δσpr, c+s/σpi\n",
    "perda_sigma_pr_cs_sigma_pi = (delta_sigma_pr_cs / (0.75 * 190)) * 100\n",
    "\n",
    "# Saída\n",
    "print(f\"ψ(t, t0): {psi_t_t0 * 100:.4f}%\")\n",
    "print(f\"Δσpr(t, t0): {delta_sigma_pr_t_t0:.2f} kN/cm²\")\n",
    "print(f\"Δσpr, c+s: {delta_sigma_pr_cs:.2f} kN/cm²\")\n",
    "print(f\"A porcentagem de perda por relação(Δσpr, c+s/σpi) é de: {perda_sigma_pr_cs_sigma_pi:.2f}%\")\n",
    "\n",
    "# perda_por_relaxacao()"
   ]
  }
 ],
 "metadata": {
  "kernelspec": {
   "display_name": "base",
   "language": "python",
   "name": "python3"
  },
  "language_info": {
   "codemirror_mode": {
    "name": "ipython",
    "version": 3
   },
   "file_extension": ".py",
   "mimetype": "text/x-python",
   "name": "python",
   "nbconvert_exporter": "python",
   "pygments_lexer": "ipython3",
   "version": "3.12.4"
  }
 },
 "nbformat": 4,
 "nbformat_minor": 2
}
